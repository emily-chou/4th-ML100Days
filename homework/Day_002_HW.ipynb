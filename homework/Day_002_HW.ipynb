{
 "cells": [
  {
   "cell_type": "code",
   "execution_count": null,
   "metadata": {},
   "outputs": [],
   "source": [
    "機器學習蔚為風行之原因\n",
    "資料分析的快速\n",
    "  可以透過以往的資料找到運行規則（推理），使用者可以在短時間內將大筆資料快速的分類\n",
    "監督是學習須事先輸入背著以分類，分類標準較明確\n",
    "非監督是學習可以不透過事前輸入的資料進行分析\n",
    "增強式學習用獎勵刺激的方式已達到最高的利益\n"
   ]
  }
 ],
 "metadata": {
  "kernelspec": {
   "display_name": "Python 3",
   "language": "python",
   "name": "python3"
  },
  "language_info": {
   "codemirror_mode": {
    "name": "ipython",
    "version": 3
   },
   "file_extension": ".py",
   "mimetype": "text/x-python",
   "name": "python",
   "nbconvert_exporter": "python",
   "pygments_lexer": "ipython3",
   "version": "3.7.4"
  }
 },
 "nbformat": 4,
 "nbformat_minor": 4
}
