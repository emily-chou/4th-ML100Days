{
 "cells": [
  {
   "cell_type": "code",
   "execution_count": 3,
   "metadata": {},
   "outputs": [
    {
     "name": "stdout",
     "output_type": "stream",
     "text": [
      "MSE= 4.0\n"
     ]
    }
   ],
   "source": [
    "from sklearn.metrics import mean_squared_error\n",
    "x = [4]\n",
    "y = [6]\n",
    "mean_squared_error(x, y)\n",
    "\n",
    "print(\"MSE=\",mean_squared_error(x, y))"
   ]
  },
  {
   "cell_type": "code",
   "execution_count": null,
   "metadata": {},
   "outputs": [],
   "source": [
    "競賽網址https://www.kaggle.com/c/competitive-data-science-predict-future-sales\n",
    "1.較貼近日常生活，利用競賽不同參賽者的腦力激盪，未來可運用在生活中（資料科學方面）\n",
    "2.資料由一所俄羅斯其中一間最大的軟體公司1C Company\n",
    "3.透過一前的資料來預測之後的銷售量\n",
    "4.透過numpy程式庫"
   ]
  },
  {
   "cell_type": "markdown",
   "metadata": {},
   "source": [
    "1.如何增加載客量以及不用大幅增加成本的前提之下＝業績之提升，使用之前的資料來進行預測及對比\n",
    "2.利用會員制，顧客的填寫問卷，年齡，搭乘時間的紀錄則使用app\n",
    "3.文字記錄檔\n",
    "4.實際測試一星期，之後驗證準確度"
   ]
  }
 ],
 "metadata": {
  "kernelspec": {
   "display_name": "Python 3",
   "language": "python",
   "name": "python3"
  },
  "language_info": {
   "codemirror_mode": {
    "name": "ipython",
    "version": 3
   },
   "file_extension": ".py",
   "mimetype": "text/x-python",
   "name": "python",
   "nbconvert_exporter": "python",
   "pygments_lexer": "ipython3",
   "version": "3.7.4"
  }
 },
 "nbformat": 4,
 "nbformat_minor": 4
}
